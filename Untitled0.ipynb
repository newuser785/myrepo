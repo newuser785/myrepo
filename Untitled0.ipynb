{
  "nbformat": 4,
  "nbformat_minor": 0,
  "metadata": {
    "colab": {
      "provenance": [],
      "authorship_tag": "ABX9TyPhoAp8+3tYQ754UhuLDJoP",
      "include_colab_link": true
    },
    "kernelspec": {
      "name": "python3",
      "display_name": "Python 3"
    },
    "language_info": {
      "name": "python"
    }
  },
  "cells": [
    {
      "cell_type": "markdown",
      "metadata": {
        "id": "view-in-github",
        "colab_type": "text"
      },
      "source": [
        "<a href=\"https://colab.research.google.com/github/newuser785/myrepo/blob/main/Untitled0.ipynb\" target=\"_parent\"><img src=\"https://colab.research.google.com/assets/colab-badge.svg\" alt=\"Open In Colab\"/></a>"
      ]
    },
    {
      "cell_type": "code",
      "source": [
        "# pip install pyspark\n",
        "# pip install install-jdk\n",
        "# pip install findspark"
      ],
      "metadata": {
        "id": "SZ_aYSDBVi54"
      },
      "execution_count": 7,
      "outputs": []
    },
    {
      "cell_type": "code",
      "source": [
        "from pyspark.sql import SparkSession\n",
        "import random\n",
        "import string\n",
        "\n",
        "# Create SparkSession\n",
        "spark = SparkSession.builder.appName(\"Student Grades\").getOrCreate()\n",
        "\n",
        "# Generate random student data\n",
        "male_names = [\"Иван\", \"Александр\", \"Максим\", \"Артем\", \"Никита\", \"Михаил\", \"Данила\", \"Егор\", \"Дмитрий\", \"Тимофей\"]\n",
        "female_names = [\"Софья\", \"Анастасия\", \"Александра\", \"Полина\", \"Елизавета\", \"Диана\", \"Виктория\", \"Ксения\", \"Валерия\", \"Алёна\"]\n",
        "\n",
        "student_data = []\n",
        "for i in range(1, 51):\n",
        "    gender = random.choice([\"male\", \"female\"])\n",
        "    if gender == \"male\":\n",
        "        name = random.choice(male_names)\n",
        "    else:\n",
        "        name = random.choice(female_names)\n",
        "    age = random.randint(18, 25)\n",
        "    city = random.choice([\"Moscow\", \"St. Petersburg\", \"Novosibirsk\"])\n",
        "    student_data.append((i, name, age, city))\n",
        "\n",
        "students_df = spark.createDataFrame(student_data, [\"Student_ID\", \"Name\", \"Age\", \"City\"])\n",
        "\n",
        "# Generate random course data\n",
        "course_data = [(101, \"Introduction to Python\", \"Learn the basics of Python programming\"),\n",
        "              (102, \"Python for Data Science\", \"Learn how to use Python for data analysis\"),\n",
        "              (103, \"Python Machine Learning\", \"Learn how to use Python for machine learning\"),\n",
        "              (104, \"Advanced Python Programming\", \"master advanced Python concepts\")]\n",
        "courses_df = spark.createDataFrame(course_data, [\"Course_ID\", \"Name\", \"Description\"])\n",
        "\n",
        "# Generate random grade data\n",
        "grade_data = []\n",
        "for student_id in range(1, 51):\n",
        "    for course_id in [101, 102, 103, 104]:\n",
        "        grade = random.randint(1, 10)\n",
        "        grade_data.append((student_id, course_id, grade))\n",
        "\n",
        "grades_df = spark.createDataFrame(grade_data, [\"Student_ID\", \"Course_ID\", \"Grade\"])\n",
        "\n",
        "# Print the generated data\n",
        "print(\"Student data:\")\n",
        "students_df.show()\n",
        "print(\"Course data:\")\n",
        "courses_df.show()\n",
        "print(\"Grade data:\")\n",
        "grades_df.show()\n"
      ],
      "metadata": {
        "colab": {
          "base_uri": "https://localhost:8080/"
        },
        "id": "ijMRt286kHUd",
        "outputId": "b06c61f8-d5a3-4b6b-dca7-19243b09bd65"
      },
      "execution_count": 30,
      "outputs": [
        {
          "output_type": "stream",
          "name": "stdout",
          "text": [
            "Student data:\n",
            "+----------+---------+---+--------------+\n",
            "|Student_ID|     Name|Age|          City|\n",
            "+----------+---------+---+--------------+\n",
            "|         1|    Софья| 22|        Moscow|\n",
            "|         2|     Иван| 23|St. Petersburg|\n",
            "|         3|   Максим| 23|        Moscow|\n",
            "|         4|Елизавета| 23|St. Petersburg|\n",
            "|         5|Александр| 25|   Novosibirsk|\n",
            "|         6|  Дмитрий| 18|        Moscow|\n",
            "|         7|   Никита| 19|   Novosibirsk|\n",
            "|         8|   Полина| 25|   Novosibirsk|\n",
            "|         9|   Максим| 22|        Moscow|\n",
            "|        10|   Михаил| 24|St. Petersburg|\n",
            "|        11|Александр| 24|   Novosibirsk|\n",
            "|        12|  Тимофей| 19|   Novosibirsk|\n",
            "|        13|    Софья| 20|   Novosibirsk|\n",
            "|        14|   Ксения| 23|   Novosibirsk|\n",
            "|        15|   Полина| 24|        Moscow|\n",
            "|        16|   Полина| 19|        Moscow|\n",
            "|        17|    Артем| 19|St. Petersburg|\n",
            "|        18|   Михаил| 19|   Novosibirsk|\n",
            "|        19|Елизавета| 19|   Novosibirsk|\n",
            "|        20|     Иван| 19|        Moscow|\n",
            "+----------+---------+---+--------------+\n",
            "only showing top 20 rows\n",
            "\n",
            "Course data:\n",
            "+---------+--------------------+--------------------+\n",
            "|Course_ID|                Name|         Description|\n",
            "+---------+--------------------+--------------------+\n",
            "|      101|Introduction to P...|Learn the basics ...|\n",
            "|      102|Python for Data S...|Learn how to use ...|\n",
            "|      103|Python Machine Le...|Learn how to use ...|\n",
            "|      104|Advanced Python P...|master advanced P...|\n",
            "+---------+--------------------+--------------------+\n",
            "\n",
            "Grade data:\n",
            "+----------+---------+-----+\n",
            "|Student_ID|Course_ID|Grade|\n",
            "+----------+---------+-----+\n",
            "|         1|      101|    1|\n",
            "|         1|      102|    5|\n",
            "|         1|      103|    2|\n",
            "|         1|      104|    1|\n",
            "|         2|      101|    1|\n",
            "|         2|      102|    1|\n",
            "|         2|      103|    2|\n",
            "|         2|      104|    9|\n",
            "|         3|      101|    2|\n",
            "|         3|      102|    4|\n",
            "|         3|      103|    7|\n",
            "|         3|      104|    9|\n",
            "|         4|      101|    8|\n",
            "|         4|      102|    1|\n",
            "|         4|      103|    7|\n",
            "|         4|      104|    5|\n",
            "|         5|      101|   10|\n",
            "|         5|      102|    5|\n",
            "|         5|      103|    3|\n",
            "|         5|      104|    5|\n",
            "+----------+---------+-----+\n",
            "only showing top 20 rows\n",
            "\n"
          ]
        }
      ]
    },
    {
      "cell_type": "code",
      "source": [
        "from pyspark.sql import SparkSession\n",
        "import random\n",
        "from pyspark.sql.types import StructType, StructField, StringType, IntegerType\n",
        "\n",
        "# Создание SparkSession\n",
        "spark = SparkSession.builder.appName(\"Students Analysis\").getOrCreate()\n",
        "\n",
        "# Создание схемы DataFrame (студенты)\n",
        "students_schema = StructType([\n",
        "    StructField(\"ID\", IntegerType(), False),\n",
        "    StructField(\"Name\", StringType(), False),\n",
        "    StructField(\"Age\", IntegerType(), False),\n",
        "    StructField(\"City\", StringType(), False)\n",
        "])\n",
        "\n",
        "# Создание DataFrame (студенты)\n",
        "students_data = [(i, f\"Student_{i}\", random.randint(21, 30), random.choice([\"Moscow\", \"St. Petersburg\", \"Novosibirsk\"])) for i in range(1, 51)]\n",
        "students_df = spark.createDataFrame(students_data, schema=students_schema)\n",
        "\n",
        "# Создание схемы DataFrame (предметы)\n",
        "courses_schema = StructType([\n",
        "    StructField(\"ID\", IntegerType(), False),\n",
        "    StructField(\"Name\", StringType(), False),\n",
        "    StructField(\"Description\", StringType(), False)\n",
        "])\n",
        "\n",
        "# Создание DataFrame (предметы)\n",
        "courses_data = [(101, \"Introduction to Python\", \"Python programming basics\"),\n",
        "               (102, \"Python for Data Science\", \"Data analysis with Python\"),\n",
        "               (103, \"Python Machine Learning\", \"Machine learning with Python\"),\n",
        "               (104, \"Advanced Python Programming\", \"Advanced Python concepts\")]\n",
        "courses_df = spark.createDataFrame(courses_data, schema=courses_schema)\n",
        "\n",
        "# Создание DataFrame (оценки)\n",
        "grades_data = []\n",
        "for i in range(1, 51):\n",
        "    for j in [101, 102, 103, 104]:\n",
        "        grade = random.randint(1, 10)\n",
        "        grades_data.append((i, j, grade))\n",
        "\n",
        "grades_schema = StructType([\n",
        "    StructField(\"Student_ID\", IntegerType(), False),\n",
        "    StructField(\"Course_ID\", IntegerType(), False),\n",
        "    StructField(\"Grade\", IntegerType(), False)\n",
        "])\n",
        "\n",
        "grades_df = spark.createDataFrame(grades_data, schema=grades_schema)\n",
        "\n",
        "students_df.show()\n",
        "courses_df.show()\n",
        "grades_df.show()"
      ],
      "metadata": {
        "colab": {
          "base_uri": "https://localhost:8080/"
        },
        "id": "sdbCV6ZNpL63",
        "outputId": "3c7c2e96-0ca0-418d-e311-44949e0d32c8"
      },
      "execution_count": 42,
      "outputs": [
        {
          "output_type": "stream",
          "name": "stdout",
          "text": [
            "+---+----------+---+--------------+\n",
            "| ID|      Name|Age|          City|\n",
            "+---+----------+---+--------------+\n",
            "|  1| Student_1| 24|   Novosibirsk|\n",
            "|  2| Student_2| 26|   Novosibirsk|\n",
            "|  3| Student_3| 21|   Novosibirsk|\n",
            "|  4| Student_4| 27|   Novosibirsk|\n",
            "|  5| Student_5| 22|   Novosibirsk|\n",
            "|  6| Student_6| 23|   Novosibirsk|\n",
            "|  7| Student_7| 27|        Moscow|\n",
            "|  8| Student_8| 24|St. Petersburg|\n",
            "|  9| Student_9| 23|St. Petersburg|\n",
            "| 10|Student_10| 25|        Moscow|\n",
            "| 11|Student_11| 22|St. Petersburg|\n",
            "| 12|Student_12| 29|St. Petersburg|\n",
            "| 13|Student_13| 27|St. Petersburg|\n",
            "| 14|Student_14| 30|St. Petersburg|\n",
            "| 15|Student_15| 29|        Moscow|\n",
            "| 16|Student_16| 27|   Novosibirsk|\n",
            "| 17|Student_17| 29|St. Petersburg|\n",
            "| 18|Student_18| 26|        Moscow|\n",
            "| 19|Student_19| 23|        Moscow|\n",
            "| 20|Student_20| 26|        Moscow|\n",
            "+---+----------+---+--------------+\n",
            "only showing top 20 rows\n",
            "\n",
            "+---+--------------------+--------------------+\n",
            "| ID|                Name|         Description|\n",
            "+---+--------------------+--------------------+\n",
            "|101|Introduction to P...|Python programmin...|\n",
            "|102|Python for Data S...|Data analysis wit...|\n",
            "|103|Python Machine Le...|Machine learning ...|\n",
            "|104|Advanced Python P...|Advanced Python c...|\n",
            "+---+--------------------+--------------------+\n",
            "\n",
            "+----------+---------+-----+\n",
            "|Student_ID|Course_ID|Grade|\n",
            "+----------+---------+-----+\n",
            "|         1|      101|   10|\n",
            "|         1|      102|    1|\n",
            "|         1|      103|   10|\n",
            "|         1|      104|    3|\n",
            "|         2|      101|    9|\n",
            "|         2|      102|    5|\n",
            "|         2|      103|    8|\n",
            "|         2|      104|    1|\n",
            "|         3|      101|    4|\n",
            "|         3|      102|    5|\n",
            "|         3|      103|    8|\n",
            "|         3|      104|    9|\n",
            "|         4|      101|    7|\n",
            "|         4|      102|    5|\n",
            "|         4|      103|    6|\n",
            "|         4|      104|    4|\n",
            "|         5|      101|    3|\n",
            "|         5|      102|   10|\n",
            "|         5|      103|    2|\n",
            "|         5|      104|    6|\n",
            "+----------+---------+-----+\n",
            "only showing top 20 rows\n",
            "\n"
          ]
        }
      ]
    },
    {
      "cell_type": "code",
      "source": [
        "# Вычисление среднего возраста студентов\n",
        "average_age = students_df.selectExpr(\"avg(Age)\").collect()\n",
        "print(\"Средний возраст студентов:\", average_age[0][0])"
      ],
      "metadata": {
        "colab": {
          "base_uri": "https://localhost:8080/"
        },
        "id": "JpH5yMMTwWaj",
        "outputId": "0c7cb1ce-6286-4281-89b8-6a49194e52f1"
      },
      "execution_count": 62,
      "outputs": [
        {
          "output_type": "stream",
          "name": "stdout",
          "text": [
            "Средний возраст студентов: 23.833333333333332\n"
          ]
        }
      ]
    },
    {
      "cell_type": "code",
      "source": [
        "more_students_data = [(i, f\"Student_{i}\", random.randint(18, 25), random.choice([\"Moscow\", \"St. Petersburg\", \"Novosibirsk\"])) for i in range(51, 101)]\n",
        "more_students_df = spark.createDataFrame(more_students_data, schema=students_schema)\n",
        "\n",
        "# Объединение существующего DataFrame со вновь созданным\n",
        "all_students_df = students_df.union(more_students_df)\n",
        "\n",
        "# Определение количества студентов из каждого города после добавления\n",
        "all_students_by_city = all_students_df.groupBy(\"City\").count()\n",
        "all_students_by_city.show()"
      ],
      "metadata": {
        "colab": {
          "base_uri": "https://localhost:8080/"
        },
        "id": "n5P4dYXTwaUx",
        "outputId": "81c9b374-12f2-41fd-db5e-67e3ddb01423"
      },
      "execution_count": 64,
      "outputs": [
        {
          "output_type": "stream",
          "name": "stdout",
          "text": [
            "+--------------+-----+\n",
            "|          City|count|\n",
            "+--------------+-----+\n",
            "|        Moscow|   23|\n",
            "|St. Petersburg|   18|\n",
            "|   Novosibirsk|   15|\n",
            "+--------------+-----+\n",
            "\n"
          ]
        }
      ]
    }
  ]
}